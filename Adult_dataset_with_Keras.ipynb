{
  "nbformat": 4,
  "nbformat_minor": 0,
  "metadata": {
    "colab": {
      "name": "Adult_dataset_with_Keras.ipynb",
      "private_outputs": true,
      "provenance": [],
      "authorship_tag": "ABX9TyNddrTxW/XrHi/2umJNGiaj",
      "include_colab_link": true
    },
    "kernelspec": {
      "name": "python3",
      "display_name": "Python 3"
    },
    "language_info": {
      "name": "python"
    }
  },
  "cells": [
    {
      "cell_type": "markdown",
      "metadata": {
        "id": "view-in-github",
        "colab_type": "text"
      },
      "source": [
        "<a href=\"https://colab.research.google.com/github/Daivar/PP6_Adult_dataset/blob/main/Adult_dataset_with_Keras.ipynb\" target=\"_parent\"><img src=\"https://colab.research.google.com/assets/colab-badge.svg\" alt=\"Open In Colab\"/></a>"
      ]
    },
    {
      "cell_type": "code",
      "execution_count": null,
      "metadata": {
        "id": "JLBHCywyGhmE"
      },
      "outputs": [],
      "source": [
        "import warnings \n",
        "warnings.filterwarnings('ignore')\n",
        "import numpy as np\n",
        "np.random.seed(7)"
      ]
    },
    {
      "cell_type": "code",
      "source": [
        "import pandas as pd\n",
        "\n",
        "columns = [\"Age\", \"WorkClass\", \"fnlwgt\", \"Education\", \"EducationNum\",\n",
        "        \"MaritalStatus\", \"Occupation\", \"Relationship\", \"Race\", \"Gender\",\n",
        "        \"CapitalGain\", \"CapitalLoss\", \"HoursPerWeek\", \"NativeCountry\", \"Income\"]\n",
        "\n",
        "data = pd.read_csv('https://archive.ics.uci.edu/ml/machine-learning-databases/adult/adult.data',\n",
        "                    header=None,\n",
        "                    names=columns)"
      ],
      "metadata": {
        "id": "_JbKvx0HGtAV"
      },
      "execution_count": null,
      "outputs": []
    },
    {
      "cell_type": "code",
      "source": [
        "data.head()"
      ],
      "metadata": {
        "id": "32Igq8YdG3pN"
      },
      "execution_count": null,
      "outputs": []
    },
    {
      "cell_type": "code",
      "source": [
        "data.describe(include='all').T"
      ],
      "metadata": {
        "id": "f0QJllSNG7RV"
      },
      "execution_count": null,
      "outputs": []
    },
    {
      "cell_type": "code",
      "source": [
        "data.info()"
      ],
      "metadata": {
        "id": "RYT__H_mG9Tt"
      },
      "execution_count": null,
      "outputs": []
    },
    {
      "cell_type": "code",
      "source": [
        "train = data[:30561]\n",
        "test = data[30561:]"
      ],
      "metadata": {
        "id": "PWTqAlPbHB-d"
      },
      "execution_count": null,
      "outputs": []
    },
    {
      "cell_type": "code",
      "source": [
        "cat_feats = [column for column in data.columns if data[column].dtypes=='object']\n",
        "non_cat_feats = [column for column in data.columns if data[column].dtypes!='object']"
      ],
      "metadata": {
        "id": "Sp01oQuhHIps"
      },
      "execution_count": null,
      "outputs": []
    },
    {
      "cell_type": "code",
      "source": [
        "from sklearn.preprocessing import LabelEncoder\n",
        "\n",
        "train[cat_feats] = train[cat_feats].apply(LabelEncoder().fit_transform)\n",
        "test[cat_feats] = test[cat_feats].apply(LabelEncoder().fit_transform)"
      ],
      "metadata": {
        "id": "YyekfIrjHMKF"
      },
      "execution_count": null,
      "outputs": []
    },
    {
      "cell_type": "code",
      "source": [
        "X_train = train.iloc[:,0:-1]\n",
        "y_train = train['Income']\n",
        "\n",
        "X_test = test.iloc[:,0:-1]\n",
        "y_test = test['Income']\n",
        "\n",
        "X_train.shape, y_train.shape, X_test.shape, y_test.shape"
      ],
      "metadata": {
        "id": "qE7n1IV9HUKk"
      },
      "execution_count": null,
      "outputs": []
    },
    {
      "cell_type": "code",
      "source": [
        "X_train = train.iloc[:,0:-1]\n",
        "y_train = train['Income']\n",
        "\n",
        "X_test = test.iloc[:,0:-1]\n",
        "y_test = test['Income']\n",
        "\n",
        "X_train.shape, y_train.shape, X_test.shape, y_test.shape"
      ],
      "metadata": {
        "id": "EB8tAENGHZRl"
      },
      "execution_count": null,
      "outputs": []
    },
    {
      "cell_type": "code",
      "source": [
        "from sklearn.preprocessing import StandardScaler\n",
        "\n",
        "scaler = StandardScaler()\n",
        "\n",
        "scaled_train = StandardScaler().fit_transform(X_train[non_cat_feats].values)\n",
        "scaled_test = StandardScaler().fit_transform(X_test[non_cat_feats].values)"
      ],
      "metadata": {
        "id": "tJaWe_6qHhz9"
      },
      "execution_count": null,
      "outputs": []
    },
    {
      "cell_type": "code",
      "source": [
        "X_train[non_cat_feats] = scaled_train\n",
        "X_test[non_cat_feats] = scaled_test"
      ],
      "metadata": {
        "id": "Bg-ALhblHlPM"
      },
      "execution_count": null,
      "outputs": []
    },
    {
      "cell_type": "code",
      "source": [
        "from tensorflow import keras"
      ],
      "metadata": {
        "id": "GnXkjGF3Hpbd"
      },
      "execution_count": null,
      "outputs": []
    },
    {
      "cell_type": "code",
      "source": [
        "model = keras.models.Sequential()\n",
        "model.add(keras.layers.Dropout(rate=0.2, input_shape=X_train.shape[1:]))\n",
        "for _ in range(2):\n",
        "        model.add(keras.layers.Dense(units=64, activation='relu'))\n",
        "        model.add(keras.layers.Dropout(rate=0.2))\n",
        "model.add(keras.layers.Dense(units=1, activation='sigmoid'))\n",
        "model.summary()"
      ],
      "metadata": {
        "id": "bHROpDQ7HqbV"
      },
      "execution_count": null,
      "outputs": []
    },
    {
      "cell_type": "code",
      "source": [
        "optimizer = keras.optimizers.Adam(lr=0.001)\n",
        "model.compile(loss='binary_crossentropy', optimizer=optimizer, metrics=['acc'])\n",
        "es_cb = keras.callbacks.EarlyStopping(monitor='val_loss', patience=5)"
      ],
      "metadata": {
        "id": "DRaiJsROHx-N"
      },
      "execution_count": null,
      "outputs": []
    },
    {
      "cell_type": "code",
      "source": [
        "import time\n",
        "\n",
        "start = time.time()\n",
        "history = model.fit(X_train, y_train,\n",
        "         validation_data=(X_test, y_test),\n",
        "         batch_size=64,\n",
        "         epochs=100,\n",
        "         callbacks=[es_cb])\n",
        "print('\\nIt took {} seconds'.format(time.time()-start))"
      ],
      "metadata": {
        "id": "1R7lFD7qH_gu"
      },
      "execution_count": null,
      "outputs": []
    }
  ]
}